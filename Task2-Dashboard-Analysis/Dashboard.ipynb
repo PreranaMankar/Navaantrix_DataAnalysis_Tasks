{
 "cells": [
  {
   "cell_type": "code",
   "execution_count": 5,
   "metadata": {},
   "outputs": [],
   "source": [
    "import pandas as pd\n",
    "import dash\n",
    "from dash import dcc, html, Input, Output\n",
    "import plotly.express as px"
   ]
  },
  {
   "cell_type": "code",
   "execution_count": 6,
   "metadata": {},
   "outputs": [],
   "source": [
    "import plotly.express as px"
   ]
  },
  {
   "cell_type": "code",
   "execution_count": 7,
   "metadata": {},
   "outputs": [],
   "source": [
    "df = pd.read_csv('sales_data.csv')\n",
    "df[\"Date\"] = pd.to_datetime(df[\"Date\"])  # Convert date to datetime\n"
   ]
  },
  {
   "cell_type": "code",
   "execution_count": 11,
   "metadata": {},
   "outputs": [],
   "source": [
    "# Start Dash app\n",
    "app = dash.Dash(__name__)\n"
   ]
  },
  {
   "cell_type": "code",
   "execution_count": null,
   "metadata": {},
   "outputs": [],
   "source": [
    "# Layout\n",
    "app.layout = html.Div([\n",
    "    html.H1(\"Sales Dashboard\"),\n",
    "    \n",
    "    dcc.Dropdown(\n",
    "        id='region-filter',\n",
    "        options=[{'label': r, 'value': r} for r in df['Region'].unique()],\n",
    "        value=df['Region'].unique()[0],\n",
    "        clearable=False\n",
    "    ),\n",
    "    \n",
    "    dcc.Graph(id='revenue-over-time'),\n",
    "    dcc.Graph(id='product-distribution'),\n",
    "    dcc.Graph(id='quantity-bar')\n",
    "])\n"
   ]
  },
  {
   "cell_type": "code",
   "execution_count": null,
   "metadata": {},
   "outputs": [],
   "source": [
    "# Callbacks for interactivity\n",
    "@app.callback(\n",
    "    Output('revenue-over-time', 'figure'),\n",
    "    Output('product-distribution', 'figure'),\n",
    "    Output('quantity-bar', 'figure'),\n",
    "    Input('region-filter', 'value')\n",
    ")\n",
    "def update_charts(selected_region):\n",
    "    filtered = df[df['Region'] == selected_region]\n",
    "\n",
    "    fig1 = px.line(filtered, x='Date', y='Revenue', title='Revenue Over Time')\n",
    "    fig2 = px.pie(filtered, names='Product', values='Revenue', title='Revenue by Product')\n",
    "    fig3 = px.bar(filtered, x='Product', y='Quantity', title='Quantity Sold by Product')\n",
    "\n",
    "    return fig1, fig2, fig3\n"
   ]
  },
  {
   "cell_type": "code",
   "execution_count": 15,
   "metadata": {},
   "outputs": [
    {
     "data": {
      "text/html": [
       "\n",
       "        <iframe\n",
       "            width=\"100%\"\n",
       "            height=\"650\"\n",
       "            src=\"http://127.0.0.1:8050/\"\n",
       "            frameborder=\"0\"\n",
       "            allowfullscreen\n",
       "            \n",
       "        ></iframe>\n",
       "        "
      ],
      "text/plain": [
       "<IPython.lib.display.IFrame at 0x213f25f3350>"
      ]
     },
     "metadata": {},
     "output_type": "display_data"
    }
   ],
   "source": [
    "# Run the app\n",
    "if __name__ == '__main__':\n",
    "    app.run(debug=True)\n"
   ]
  },
  {
   "cell_type": "code",
   "execution_count": null,
   "metadata": {},
   "outputs": [],
   "source": []
  }
 ],
 "metadata": {
  "language_info": {
   "name": "python"
  }
 },
 "nbformat": 4,
 "nbformat_minor": 2
}
